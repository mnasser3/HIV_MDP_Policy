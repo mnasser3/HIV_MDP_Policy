{
 "cells": [
  {
   "cell_type": "markdown",
   "metadata": {},
   "source": [
    "# The Heath Gym Synthetic HIV Dataset Analysis"
   ]
  },
  {
   "cell_type": "code",
   "execution_count": 797,
   "metadata": {},
   "outputs": [],
   "source": [
    "#We import the necessary libraries\n",
    "import pandas as pd\n",
    "import sys\n",
    "#We set the path to the project folder\n",
    "sys.path.append('/Users/mariehuynh/Desktop/PhD/Year 1/Fall Quarter/CS238/cs238_final_project/')\n",
    "from src.preprocessing import * \n",
    "from src.environment import *\n",
    "import json\n",
    "import numpy as np\n",
    "from sklearn.model_selection import train_test_split\n",
    "import matplotlib.pyplot as plt"
   ]
  },
  {
   "cell_type": "code",
   "execution_count": 798,
   "metadata": {},
   "outputs": [
    {
     "name": "stdout",
     "output_type": "stream",
     "text": [
      "The autoreload extension is already loaded. To reload it, use:\n",
      "  %reload_ext autoreload\n"
     ]
    }
   ],
   "source": [
    "%load_ext autoreload\n",
    "%autoreload 2"
   ]
  },
  {
   "cell_type": "markdown",
   "metadata": {},
   "source": [
    "### I. We look at the data and the different variables available."
   ]
  },
  {
   "cell_type": "code",
   "execution_count": 799,
   "metadata": {},
   "outputs": [],
   "source": [
    "df = pd.read_csv('data/ZZZ_C001_FakeHIV.csv', index_col=0)"
   ]
  },
  {
   "cell_type": "code",
   "execution_count": 800,
   "metadata": {},
   "outputs": [
    {
     "data": {
      "text/html": [
       "<div>\n",
       "<style scoped>\n",
       "    .dataframe tbody tr th:only-of-type {\n",
       "        vertical-align: middle;\n",
       "    }\n",
       "\n",
       "    .dataframe tbody tr th {\n",
       "        vertical-align: top;\n",
       "    }\n",
       "\n",
       "    .dataframe thead th {\n",
       "        text-align: right;\n",
       "    }\n",
       "</style>\n",
       "<table border=\"1\" class=\"dataframe\">\n",
       "  <thead>\n",
       "    <tr style=\"text-align: right;\">\n",
       "      <th></th>\n",
       "      <th>VL</th>\n",
       "      <th>CD4</th>\n",
       "      <th>Rel CD4</th>\n",
       "      <th>Gender</th>\n",
       "      <th>Ethnic</th>\n",
       "      <th>Base Drug Combo</th>\n",
       "      <th>Comp. INI</th>\n",
       "      <th>Comp. NNRTI</th>\n",
       "      <th>Extra PI</th>\n",
       "      <th>Extra pk-En</th>\n",
       "      <th>VL (M)</th>\n",
       "      <th>CD4 (M)</th>\n",
       "      <th>Drug (M)</th>\n",
       "      <th>PatientID</th>\n",
       "      <th>Timepoints</th>\n",
       "    </tr>\n",
       "  </thead>\n",
       "  <tbody>\n",
       "    <tr>\n",
       "      <th>0</th>\n",
       "      <td>1141.895800</td>\n",
       "      <td>1070.03560</td>\n",
       "      <td>32.654160</td>\n",
       "      <td>1.0</td>\n",
       "      <td>4.0</td>\n",
       "      <td>0.0</td>\n",
       "      <td>3.0</td>\n",
       "      <td>1.0</td>\n",
       "      <td>5.0</td>\n",
       "      <td>0.0</td>\n",
       "      <td>1.0</td>\n",
       "      <td>1.0</td>\n",
       "      <td>0.0</td>\n",
       "      <td>0</td>\n",
       "      <td>0</td>\n",
       "    </tr>\n",
       "    <tr>\n",
       "      <th>1</th>\n",
       "      <td>134.190550</td>\n",
       "      <td>444.54190</td>\n",
       "      <td>14.775723</td>\n",
       "      <td>1.0</td>\n",
       "      <td>4.0</td>\n",
       "      <td>0.0</td>\n",
       "      <td>3.0</td>\n",
       "      <td>3.0</td>\n",
       "      <td>5.0</td>\n",
       "      <td>0.0</td>\n",
       "      <td>1.0</td>\n",
       "      <td>1.0</td>\n",
       "      <td>1.0</td>\n",
       "      <td>0</td>\n",
       "      <td>1</td>\n",
       "    </tr>\n",
       "    <tr>\n",
       "      <th>2</th>\n",
       "      <td>47.274055</td>\n",
       "      <td>230.53404</td>\n",
       "      <td>15.087534</td>\n",
       "      <td>1.0</td>\n",
       "      <td>4.0</td>\n",
       "      <td>0.0</td>\n",
       "      <td>3.0</td>\n",
       "      <td>3.0</td>\n",
       "      <td>5.0</td>\n",
       "      <td>0.0</td>\n",
       "      <td>0.0</td>\n",
       "      <td>0.0</td>\n",
       "      <td>1.0</td>\n",
       "      <td>0</td>\n",
       "      <td>2</td>\n",
       "    </tr>\n",
       "    <tr>\n",
       "      <th>3</th>\n",
       "      <td>120.055940</td>\n",
       "      <td>419.28403</td>\n",
       "      <td>26.615877</td>\n",
       "      <td>1.0</td>\n",
       "      <td>4.0</td>\n",
       "      <td>1.0</td>\n",
       "      <td>3.0</td>\n",
       "      <td>3.0</td>\n",
       "      <td>5.0</td>\n",
       "      <td>0.0</td>\n",
       "      <td>1.0</td>\n",
       "      <td>1.0</td>\n",
       "      <td>1.0</td>\n",
       "      <td>0</td>\n",
       "      <td>3</td>\n",
       "    </tr>\n",
       "    <tr>\n",
       "      <th>4</th>\n",
       "      <td>27.249084</td>\n",
       "      <td>230.72127</td>\n",
       "      <td>13.609289</td>\n",
       "      <td>1.0</td>\n",
       "      <td>4.0</td>\n",
       "      <td>1.0</td>\n",
       "      <td>3.0</td>\n",
       "      <td>3.0</td>\n",
       "      <td>5.0</td>\n",
       "      <td>0.0</td>\n",
       "      <td>1.0</td>\n",
       "      <td>1.0</td>\n",
       "      <td>1.0</td>\n",
       "      <td>0</td>\n",
       "      <td>4</td>\n",
       "    </tr>\n",
       "  </tbody>\n",
       "</table>\n",
       "</div>"
      ],
      "text/plain": [
       "            VL         CD4    Rel CD4  Gender  Ethnic  Base Drug Combo  \\\n",
       "0  1141.895800  1070.03560  32.654160     1.0     4.0              0.0   \n",
       "1   134.190550   444.54190  14.775723     1.0     4.0              0.0   \n",
       "2    47.274055   230.53404  15.087534     1.0     4.0              0.0   \n",
       "3   120.055940   419.28403  26.615877     1.0     4.0              1.0   \n",
       "4    27.249084   230.72127  13.609289     1.0     4.0              1.0   \n",
       "\n",
       "   Comp. INI  Comp. NNRTI  Extra PI  Extra pk-En  VL (M)  CD4 (M)  Drug (M)  \\\n",
       "0        3.0          1.0       5.0          0.0     1.0      1.0       0.0   \n",
       "1        3.0          3.0       5.0          0.0     1.0      1.0       1.0   \n",
       "2        3.0          3.0       5.0          0.0     0.0      0.0       1.0   \n",
       "3        3.0          3.0       5.0          0.0     1.0      1.0       1.0   \n",
       "4        3.0          3.0       5.0          0.0     1.0      1.0       1.0   \n",
       "\n",
       "   PatientID  Timepoints  \n",
       "0          0           0  \n",
       "1          0           1  \n",
       "2          0           2  \n",
       "3          0           3  \n",
       "4          0           4  "
      ]
     },
     "execution_count": 800,
     "metadata": {},
     "output_type": "execute_result"
    }
   ],
   "source": [
    "df.head()"
   ]
  },
  {
   "cell_type": "code",
   "execution_count": 801,
   "metadata": {},
   "outputs": [
    {
     "name": "stdout",
     "output_type": "stream",
     "text": [
      "There are 6 base drug combinations in the dataset.\n"
     ]
    }
   ],
   "source": [
    "print(f\"There are {len(df['Base Drug Combo'].unique())} base drug combinations in the dataset.\")"
   ]
  },
  {
   "cell_type": "code",
   "execution_count": 802,
   "metadata": {},
   "outputs": [
    {
     "data": {
      "text/plain": [
       "Base Drug Combo\n",
       "0.0    394078\n",
       "1.0     75339\n",
       "3.0     29436\n",
       "5.0     18560\n",
       "4.0     12314\n",
       "2.0      5233\n",
       "Name: count, dtype: int64"
      ]
     },
     "execution_count": 802,
     "metadata": {},
     "output_type": "execute_result"
    }
   ],
   "source": [
    "df['Base Drug Combo'].value_counts()"
   ]
  },
  {
   "cell_type": "code",
   "execution_count": 803,
   "metadata": {},
   "outputs": [
    {
     "data": {
      "image/png": "[encoded data removed]",
      "text/plain": [
       "<Figure size 1200x500 with 1 Axes>"
      ]
     },
     "metadata": {},
     "output_type": "display_data"
    },
    {
     "data": {
      "image/png": "[encoded data removed]",
      "text/plain": [
       "<Figure size 1200x500 with 1 Axes>"
      ]
     },
     "metadata": {},
     "output_type": "display_data"
    }
   ],
   "source": [
    "# Plotting the distribution of CD4 counts\n",
    "plt.figure(figsize=(12, 5))\n",
    "plt.hist(df['CD4'], bins=50, color='skyblue', edgecolor='black')\n",
    "plt.title('Distribution of CD4 Counts')\n",
    "plt.xlabel('CD4 Count (cells/µL)')\n",
    "plt.ylabel('Frequency')\n",
    "plt.xticks(np.linspace(df['CD4'].min(), df['CD4'].max(), 50), rotation=45)\n",
    "plt.show()\n",
    "\n",
    "# Plotting the distribution of Viral Load (VL)\n",
    "plt.figure(figsize=(12, 5))\n",
    "plt.hist(df['VL'], bins=50, color='salmon', edgecolor='black')\n",
    "plt.title('Distribution of Viral Load (VL)')\n",
    "plt.xlabel('Viral Load (copies/mL)')\n",
    "plt.ylabel('Frequency')\n",
    "plt.xticks(np.linspace(df['VL'].min(), df['VL'].max(), 50), rotation=45)\n",
    "plt.show()\n"
   ]
  },
  {
   "cell_type": "code",
   "execution_count": 804,
   "metadata": {},
   "outputs": [],
   "source": [
    "df = df[['VL', 'CD4', 'Base Drug Combo', 'Comp. INI', 'Comp. NNRTI', 'PatientID', 'Timepoints']]"
   ]
  },
  {
   "cell_type": "code",
   "execution_count": 805,
   "metadata": {},
   "outputs": [
    {
     "data": {
      "text/plain": [
       "8916"
      ]
     },
     "execution_count": 805,
     "metadata": {},
     "output_type": "execute_result"
    }
   ],
   "source": [
    "df['PatientID'].nunique()"
   ]
  },
  {
   "cell_type": "code",
   "execution_count": 806,
   "metadata": {},
   "outputs": [
    {
     "data": {
      "text/plain": [
       "count    8916.0\n",
       "mean       60.0\n",
       "std         0.0\n",
       "min        60.0\n",
       "25%        60.0\n",
       "50%        60.0\n",
       "75%        60.0\n",
       "max        60.0\n",
       "Name: Timepoints, dtype: float64"
      ]
     },
     "execution_count": 806,
     "metadata": {},
     "output_type": "execute_result"
    }
   ],
   "source": [
    "#We group by PatientID and count the number of timepoints for each patient\n",
    "timepoints_per_patient = df.groupby('PatientID')['Timepoints'].count()\n",
    "\n",
    "timepoints_per_patient.describe()"
   ]
  },
  {
   "cell_type": "markdown",
   "metadata": {},
   "source": [
    "There are 8916 patients in our data with records of 60 months. "
   ]
  },
  {
   "cell_type": "code",
   "execution_count": 807,
   "metadata": {},
   "outputs": [
    {
     "data": {
      "text/html": [
       "<div>\n",
       "<style scoped>\n",
       "    .dataframe tbody tr th:only-of-type {\n",
       "        vertical-align: middle;\n",
       "    }\n",
       "\n",
       "    .dataframe tbody tr th {\n",
       "        vertical-align: top;\n",
       "    }\n",
       "\n",
       "    .dataframe thead th {\n",
       "        text-align: right;\n",
       "    }\n",
       "</style>\n",
       "<table border=\"1\" class=\"dataframe\">\n",
       "  <thead>\n",
       "    <tr style=\"text-align: right;\">\n",
       "      <th></th>\n",
       "      <th>VL</th>\n",
       "      <th>CD4</th>\n",
       "    </tr>\n",
       "  </thead>\n",
       "  <tbody>\n",
       "    <tr>\n",
       "      <th>count</th>\n",
       "      <td>534960.000000</td>\n",
       "      <td>534960.000000</td>\n",
       "    </tr>\n",
       "    <tr>\n",
       "      <th>mean</th>\n",
       "      <td>905.857731</td>\n",
       "      <td>674.120672</td>\n",
       "    </tr>\n",
       "    <tr>\n",
       "      <th>std</th>\n",
       "      <td>4197.878019</td>\n",
       "      <td>729.376832</td>\n",
       "    </tr>\n",
       "    <tr>\n",
       "      <th>min</th>\n",
       "      <td>0.913153</td>\n",
       "      <td>39.063290</td>\n",
       "    </tr>\n",
       "    <tr>\n",
       "      <th>25%</th>\n",
       "      <td>16.507067</td>\n",
       "      <td>279.255997</td>\n",
       "    </tr>\n",
       "    <tr>\n",
       "      <th>50%</th>\n",
       "      <td>54.765035</td>\n",
       "      <td>465.809700</td>\n",
       "    </tr>\n",
       "    <tr>\n",
       "      <th>75%</th>\n",
       "      <td>209.027337</td>\n",
       "      <td>840.335037</td>\n",
       "    </tr>\n",
       "    <tr>\n",
       "      <th>max</th>\n",
       "      <td>88600.980000</td>\n",
       "      <td>19146.166000</td>\n",
       "    </tr>\n",
       "  </tbody>\n",
       "</table>\n",
       "</div>"
      ],
      "text/plain": [
       "                  VL            CD4\n",
       "count  534960.000000  534960.000000\n",
       "mean      905.857731     674.120672\n",
       "std      4197.878019     729.376832\n",
       "min         0.913153      39.063290\n",
       "25%        16.507067     279.255997\n",
       "50%        54.765035     465.809700\n",
       "75%       209.027337     840.335037\n",
       "max     88600.980000   19146.166000"
      ]
     },
     "execution_count": 807,
     "metadata": {},
     "output_type": "execute_result"
    }
   ],
   "source": [
    "#We want the summary statistics for the columns VL and CD4\n",
    "df[['VL', 'CD4']].describe()"
   ]
  },
  {
   "cell_type": "markdown",
   "metadata": {},
   "source": [
    "### II. We preprocess the data and compute the rewards for the different transitions. "
   ]
  },
  {
   "cell_type": "code",
   "execution_count": 808,
   "metadata": {},
   "outputs": [
    {
     "name": "stdout",
     "output_type": "stream",
     "text": [
      "CD4 Bin Counts:\n",
      "  CD4_binned  Sample Count\n",
      "0      0-201         66870\n",
      "1    201-279         66870\n",
      "2    279-360         66870\n",
      "3    360-465         66871\n",
      "4    465-607         66869\n",
      "5    607-840         66870\n",
      "6   840-1253         66870\n",
      "7   1253-inf         66870\n",
      "\n",
      "VL Bin Counts:\n",
      "  VL_binned  Sample Count\n",
      "0       0-9         66870\n",
      "1      9-16         66870\n",
      "2     16-30         66870\n",
      "3     30-54         66870\n",
      "4    54-100         66870\n",
      "5   100-209         66870\n",
      "6   209-724         66870\n",
      "7   724-inf         66870\n",
      "                 VL VL_binned         CD4 CD4_binned\n",
      "0       1141.895800   724-inf  1070.03560   840-1253\n",
      "1        134.190550   100-209   444.54190    360-465\n",
      "2         47.274055     30-54   230.53404    201-279\n",
      "3        120.055940   100-209   419.28403    360-465\n",
      "4         27.249084     16-30   230.72127    201-279\n",
      "...             ...       ...         ...        ...\n",
      "534955    22.383543     16-30   815.18480    607-840\n",
      "534956    43.911175     30-54  1441.06570   1253-inf\n",
      "534957    23.014017     16-30   424.17233    360-465\n",
      "534958    31.049942     30-54   295.58610    279-360\n",
      "534959    18.980227     16-30   873.14330   840-1253\n",
      "\n",
      "[534960 rows x 4 columns]\n"
     ]
    },
    {
     "name": "stderr",
     "output_type": "stream",
     "text": [
      "/Users/mn/Desktop/Final_Project/cs238_final_project/src/preprocessing.py:38: FutureWarning: The default of observed=False is deprecated and will be changed to True in a future version of pandas. Pass observed=False to retain current behavior or observed=True to adopt the future default and silence this warning.\n",
      "  cd4_bin_counts = df.groupby(['CD4_binned']).size().reset_index(name='Sample Count')\n",
      "/Users/mn/Desktop/Final_Project/cs238_final_project/src/preprocessing.py:39: FutureWarning: The default of observed=False is deprecated and will be changed to True in a future version of pandas. Pass observed=False to retain current behavior or observed=True to adopt the future default and silence this warning.\n",
      "  vl_bin_counts = df.groupby(['VL_binned']).size().reset_index(name='Sample Count')\n"
     ]
    }
   ],
   "source": [
    "#We bin the VL and CD4 columns\n",
    "df = bin_vl_cd4_version1(df,target_sample=63000)\n",
    "# Display the result\n",
    "print(df[['VL', 'VL_binned', 'CD4', 'CD4_binned']])"
   ]
  },
  {
   "cell_type": "code",
   "execution_count": 809,
   "metadata": {},
   "outputs": [
    {
     "data": {
      "text/html": [
       "<div>\n",
       "<style scoped>\n",
       "    .dataframe tbody tr th:only-of-type {\n",
       "        vertical-align: middle;\n",
       "    }\n",
       "\n",
       "    .dataframe tbody tr th {\n",
       "        vertical-align: top;\n",
       "    }\n",
       "\n",
       "    .dataframe thead th {\n",
       "        text-align: right;\n",
       "    }\n",
       "</style>\n",
       "<table border=\"1\" class=\"dataframe\">\n",
       "  <thead>\n",
       "    <tr style=\"text-align: right;\">\n",
       "      <th></th>\n",
       "      <th>VL</th>\n",
       "      <th>CD4</th>\n",
       "      <th>Base Drug Combo</th>\n",
       "      <th>Comp. INI</th>\n",
       "      <th>Comp. NNRTI</th>\n",
       "      <th>PatientID</th>\n",
       "      <th>Timepoints</th>\n",
       "      <th>CD4_binned</th>\n",
       "      <th>VL_binned</th>\n",
       "    </tr>\n",
       "  </thead>\n",
       "  <tbody>\n",
       "    <tr>\n",
       "      <th>0</th>\n",
       "      <td>1141.895800</td>\n",
       "      <td>1070.03560</td>\n",
       "      <td>0.0</td>\n",
       "      <td>3.0</td>\n",
       "      <td>1.0</td>\n",
       "      <td>0</td>\n",
       "      <td>0</td>\n",
       "      <td>840-1253</td>\n",
       "      <td>724-inf</td>\n",
       "    </tr>\n",
       "    <tr>\n",
       "      <th>1</th>\n",
       "      <td>134.190550</td>\n",
       "      <td>444.54190</td>\n",
       "      <td>0.0</td>\n",
       "      <td>3.0</td>\n",
       "      <td>3.0</td>\n",
       "      <td>0</td>\n",
       "      <td>1</td>\n",
       "      <td>360-465</td>\n",
       "      <td>100-209</td>\n",
       "    </tr>\n",
       "    <tr>\n",
       "      <th>2</th>\n",
       "      <td>47.274055</td>\n",
       "      <td>230.53404</td>\n",
       "      <td>0.0</td>\n",
       "      <td>3.0</td>\n",
       "      <td>3.0</td>\n",
       "      <td>0</td>\n",
       "      <td>2</td>\n",
       "      <td>201-279</td>\n",
       "      <td>30-54</td>\n",
       "    </tr>\n",
       "    <tr>\n",
       "      <th>3</th>\n",
       "      <td>120.055940</td>\n",
       "      <td>419.28403</td>\n",
       "      <td>1.0</td>\n",
       "      <td>3.0</td>\n",
       "      <td>3.0</td>\n",
       "      <td>0</td>\n",
       "      <td>3</td>\n",
       "      <td>360-465</td>\n",
       "      <td>100-209</td>\n",
       "    </tr>\n",
       "    <tr>\n",
       "      <th>4</th>\n",
       "      <td>27.249084</td>\n",
       "      <td>230.72127</td>\n",
       "      <td>1.0</td>\n",
       "      <td>3.0</td>\n",
       "      <td>3.0</td>\n",
       "      <td>0</td>\n",
       "      <td>4</td>\n",
       "      <td>201-279</td>\n",
       "      <td>16-30</td>\n",
       "    </tr>\n",
       "  </tbody>\n",
       "</table>\n",
       "</div>"
      ],
      "text/plain": [
       "            VL         CD4  Base Drug Combo  Comp. INI  Comp. NNRTI  \\\n",
       "0  1141.895800  1070.03560              0.0        3.0          1.0   \n",
       "1   134.190550   444.54190              0.0        3.0          3.0   \n",
       "2    47.274055   230.53404              0.0        3.0          3.0   \n",
       "3   120.055940   419.28403              1.0        3.0          3.0   \n",
       "4    27.249084   230.72127              1.0        3.0          3.0   \n",
       "\n",
       "   PatientID  Timepoints CD4_binned VL_binned  \n",
       "0          0           0   840-1253   724-inf  \n",
       "1          0           1    360-465   100-209  \n",
       "2          0           2    201-279     30-54  \n",
       "3          0           3    360-465   100-209  \n",
       "4          0           4    201-279     16-30  "
      ]
     },
     "execution_count": 809,
     "metadata": {},
     "output_type": "execute_result"
    }
   ],
   "source": [
    "df.head()"
   ]
  },
  {
   "cell_type": "code",
   "execution_count": 810,
   "metadata": {},
   "outputs": [],
   "source": [
    "df = df.sort_values(by=['PatientID', 'Timepoints'])"
   ]
  },
  {
   "cell_type": "code",
   "execution_count": 811,
   "metadata": {},
   "outputs": [
    {
     "data": {
      "text/plain": [
       "59"
      ]
     },
     "execution_count": 811,
     "metadata": {},
     "output_type": "execute_result"
    }
   ],
   "source": [
    "max(df['Timepoints'])"
   ]
  },
  {
   "cell_type": "code",
   "execution_count": 812,
   "metadata": {},
   "outputs": [
    {
     "name": "stdout",
     "output_type": "stream",
     "text": [
      "8\n"
     ]
    }
   ],
   "source": [
    "total_samples = len(df)\n",
    "target_sample=63000\n",
    "num_bins_cd4 = total_samples // target_sample\n",
    "num_bins_vl = total_samples // target_sample\n",
    "print(num_bins_cd4)\n",
    "cd4_bins = np.quantile(df['CD4'], np.linspace(0, 1, num_bins_cd4 + 1))\n",
    "cd4_bins[0] = 0  # Set the smallest bin start to 0\n",
    "cd4_bins[-1] = float('inf')  # Set the largest bin end to infinity\n",
    "\n",
    "vl_bins = np.quantile(df['VL'], np.linspace(0, 1, num_bins_vl + 1))\n",
    "vl_bins[0] = 0  # Set the smallest bin start to 0\n",
    "vl_bins[-1] = float('inf')  # Set the largest bin end to infinity\n",
    "\n"
   ]
  },
  {
   "cell_type": "code",
   "execution_count": 813,
   "metadata": {},
   "outputs": [
    {
     "data": {
      "text/plain": [
       "8"
      ]
     },
     "execution_count": 813,
     "metadata": {},
     "output_type": "execute_result"
    }
   ],
   "source": [
    "num_bins_vl"
   ]
  },
  {
   "cell_type": "code",
   "execution_count": 814,
   "metadata": {},
   "outputs": [
    {
     "name": "stdout",
     "output_type": "stream",
     "text": [
      "CD4 Bin Scores: {'0-201': 0.1, '201-279': 0.2285714285714286, '279-360': 0.3571428571428572, '360-465': 0.48571428571428577, '465-607': 0.6142857142857143, '607-840': 0.7428571428571429, '840-1253': 0.8714285714285716, '1253-inf': 1.0}\n",
      "VL Bin Scores: {'0-9': -0.1, '9-16': -0.2285714285714286, '16-30': -0.3571428571428572, '30-54': -0.48571428571428577, '54-100': -0.6142857142857143, '100-209': -0.7428571428571429, '209-724': -0.8714285714285716, '724-inf': -1.0}\n"
     ]
    }
   ],
   "source": [
    "score_range_cd4 = np.linspace(0.1, 1.0, len(cd4_bins) - 1)  \n",
    "score_range_vl = np.linspace(-0.1, -1.0, len(vl_bins) - 1)  \n",
    "\n",
    "cd4_bin_scores = {f\"{int(cd4_bins[i])}-{int(cd4_bins[i+1]) if cd4_bins[i+1] != float('inf') else 'inf'}\": score_range_cd4[i] \n",
    "                  for i in range(len(cd4_bins) - 1)}\n",
    "\n",
    "# Generate scores for VL bins (lower VL gets higher scores, so reverse the range)\n",
    "vl_bin_scores = {f\"{int(vl_bins[i])}-{int(vl_bins[i+1]) if vl_bins[i+1] != float('inf') else 'inf'}\": score_range_vl[i] \n",
    "                 for i in range(len(vl_bins) - 1)}\n",
    "\n",
    "# Display the generated dictionaries\n",
    "print(\"CD4 Bin Scores:\", cd4_bin_scores)\n",
    "print(\"VL Bin Scores:\", vl_bin_scores)"
   ]
  },
  {
   "cell_type": "code",
   "execution_count": 815,
   "metadata": {},
   "outputs": [
    {
     "data": {
      "text/html": [
       "<div>\n",
       "<style scoped>\n",
       "    .dataframe tbody tr th:only-of-type {\n",
       "        vertical-align: middle;\n",
       "    }\n",
       "\n",
       "    .dataframe tbody tr th {\n",
       "        vertical-align: top;\n",
       "    }\n",
       "\n",
       "    .dataframe thead th {\n",
       "        text-align: right;\n",
       "    }\n",
       "</style>\n",
       "<table border=\"1\" class=\"dataframe\">\n",
       "  <thead>\n",
       "    <tr style=\"text-align: right;\">\n",
       "      <th></th>\n",
       "      <th>VL</th>\n",
       "      <th>CD4</th>\n",
       "      <th>Base Drug Combo</th>\n",
       "      <th>Comp. INI</th>\n",
       "      <th>Comp. NNRTI</th>\n",
       "      <th>PatientID</th>\n",
       "      <th>Timepoints</th>\n",
       "      <th>CD4_binned</th>\n",
       "      <th>VL_binned</th>\n",
       "      <th>CD4_Score</th>\n",
       "      <th>VL_Score</th>\n",
       "    </tr>\n",
       "  </thead>\n",
       "  <tbody>\n",
       "    <tr>\n",
       "      <th>0</th>\n",
       "      <td>1141.895800</td>\n",
       "      <td>1070.03560</td>\n",
       "      <td>0.0</td>\n",
       "      <td>3.0</td>\n",
       "      <td>1.0</td>\n",
       "      <td>0</td>\n",
       "      <td>0</td>\n",
       "      <td>840-1253</td>\n",
       "      <td>724-inf</td>\n",
       "      <td>0.871429</td>\n",
       "      <td>-1.000000</td>\n",
       "    </tr>\n",
       "    <tr>\n",
       "      <th>1</th>\n",
       "      <td>134.190550</td>\n",
       "      <td>444.54190</td>\n",
       "      <td>0.0</td>\n",
       "      <td>3.0</td>\n",
       "      <td>3.0</td>\n",
       "      <td>0</td>\n",
       "      <td>1</td>\n",
       "      <td>360-465</td>\n",
       "      <td>100-209</td>\n",
       "      <td>0.485714</td>\n",
       "      <td>-0.742857</td>\n",
       "    </tr>\n",
       "    <tr>\n",
       "      <th>2</th>\n",
       "      <td>47.274055</td>\n",
       "      <td>230.53404</td>\n",
       "      <td>0.0</td>\n",
       "      <td>3.0</td>\n",
       "      <td>3.0</td>\n",
       "      <td>0</td>\n",
       "      <td>2</td>\n",
       "      <td>201-279</td>\n",
       "      <td>30-54</td>\n",
       "      <td>0.228571</td>\n",
       "      <td>-0.485714</td>\n",
       "    </tr>\n",
       "    <tr>\n",
       "      <th>3</th>\n",
       "      <td>120.055940</td>\n",
       "      <td>419.28403</td>\n",
       "      <td>1.0</td>\n",
       "      <td>3.0</td>\n",
       "      <td>3.0</td>\n",
       "      <td>0</td>\n",
       "      <td>3</td>\n",
       "      <td>360-465</td>\n",
       "      <td>100-209</td>\n",
       "      <td>0.485714</td>\n",
       "      <td>-0.742857</td>\n",
       "    </tr>\n",
       "    <tr>\n",
       "      <th>4</th>\n",
       "      <td>27.249084</td>\n",
       "      <td>230.72127</td>\n",
       "      <td>1.0</td>\n",
       "      <td>3.0</td>\n",
       "      <td>3.0</td>\n",
       "      <td>0</td>\n",
       "      <td>4</td>\n",
       "      <td>201-279</td>\n",
       "      <td>16-30</td>\n",
       "      <td>0.228571</td>\n",
       "      <td>-0.357143</td>\n",
       "    </tr>\n",
       "  </tbody>\n",
       "</table>\n",
       "</div>"
      ],
      "text/plain": [
       "            VL         CD4  Base Drug Combo  Comp. INI  Comp. NNRTI  \\\n",
       "0  1141.895800  1070.03560              0.0        3.0          1.0   \n",
       "1   134.190550   444.54190              0.0        3.0          3.0   \n",
       "2    47.274055   230.53404              0.0        3.0          3.0   \n",
       "3   120.055940   419.28403              1.0        3.0          3.0   \n",
       "4    27.249084   230.72127              1.0        3.0          3.0   \n",
       "\n",
       "   PatientID  Timepoints CD4_binned VL_binned  CD4_Score  VL_Score  \n",
       "0          0           0   840-1253   724-inf   0.871429 -1.000000  \n",
       "1          0           1    360-465   100-209   0.485714 -0.742857  \n",
       "2          0           2    201-279     30-54   0.228571 -0.485714  \n",
       "3          0           3    360-465   100-209   0.485714 -0.742857  \n",
       "4          0           4    201-279     16-30   0.228571 -0.357143  "
      ]
     },
     "execution_count": 815,
     "metadata": {},
     "output_type": "execute_result"
    }
   ],
   "source": [
    "df['CD4_Score'] = df['CD4_binned'].map(cd4_bin_scores).astype(float)\n",
    "df['VL_Score'] = df['VL_binned'].map(vl_bin_scores).astype(float)\n",
    "df.head()"
   ]
  },
  {
   "cell_type": "code",
   "execution_count": 816,
   "metadata": {},
   "outputs": [
    {
     "name": "stdout",
     "output_type": "stream",
     "text": [
      "Processed 0 patients...\n",
      "Processed 100 patients...\n",
      "Processed 200 patients...\n",
      "Processed 300 patients...\n",
      "Processed 400 patients...\n",
      "Processed 500 patients...\n",
      "Processed 600 patients...\n",
      "Processed 700 patients...\n",
      "Processed 800 patients...\n",
      "Processed 900 patients...\n",
      "Processed 1000 patients...\n",
      "Processed 1100 patients...\n",
      "Processed 1200 patients...\n",
      "Processed 1300 patients...\n",
      "Processed 1400 patients...\n",
      "Processed 1500 patients...\n",
      "Processed 1600 patients...\n",
      "Processed 1700 patients...\n",
      "Processed 1800 patients...\n",
      "Processed 1900 patients...\n",
      "Processed 2000 patients...\n",
      "Processed 2100 patients...\n",
      "Processed 2200 patients...\n",
      "Processed 2300 patients...\n",
      "Processed 2400 patients...\n",
      "Processed 2500 patients...\n",
      "Processed 2600 patients...\n",
      "Processed 2700 patients...\n",
      "Processed 2800 patients...\n",
      "Processed 2900 patients...\n",
      "Processed 3000 patients...\n",
      "Processed 3100 patients...\n",
      "Processed 3200 patients...\n",
      "Processed 3300 patients...\n",
      "Processed 3400 patients...\n",
      "Processed 3500 patients...\n",
      "Processed 3600 patients...\n",
      "Processed 3700 patients...\n",
      "Processed 3800 patients...\n",
      "Processed 3900 patients...\n",
      "Processed 4000 patients...\n",
      "Processed 4100 patients...\n",
      "Processed 4200 patients...\n",
      "Processed 4300 patients...\n",
      "Processed 4400 patients...\n",
      "Processed 4500 patients...\n",
      "Processed 4600 patients...\n",
      "Processed 4700 patients...\n",
      "Processed 4800 patients...\n",
      "Processed 4900 patients...\n",
      "Processed 5000 patients...\n",
      "Processed 5100 patients...\n",
      "Processed 5200 patients...\n",
      "Processed 5300 patients...\n",
      "Processed 5400 patients...\n",
      "Processed 5500 patients...\n",
      "Processed 5600 patients...\n",
      "Processed 5700 patients...\n",
      "Processed 5800 patients...\n",
      "Processed 5900 patients...\n",
      "Processed 6000 patients...\n",
      "Processed 6100 patients...\n",
      "Processed 6200 patients...\n",
      "Processed 6300 patients...\n",
      "Processed 6400 patients...\n",
      "Processed 6500 patients...\n",
      "Processed 6600 patients...\n",
      "Processed 6700 patients...\n",
      "Processed 6800 patients...\n",
      "Processed 6900 patients...\n",
      "Processed 7000 patients...\n",
      "Processed 7100 patients...\n",
      "Processed 7200 patients...\n",
      "Processed 7300 patients...\n",
      "Processed 7400 patients...\n",
      "Processed 7500 patients...\n",
      "Processed 7600 patients...\n",
      "Processed 7700 patients...\n",
      "Processed 7800 patients...\n",
      "Processed 7900 patients...\n",
      "Processed 8000 patients...\n",
      "Processed 8100 patients...\n",
      "Processed 8200 patients...\n",
      "Processed 8300 patients...\n",
      "Processed 8400 patients...\n",
      "Processed 8500 patients...\n",
      "Processed 8600 patients...\n",
      "Processed 8700 patients...\n",
      "Processed 8800 patients...\n",
      "Processed 8900 patients...\n"
     ]
    }
   ],
   "source": [
    "transition_df = create_transitions(df)"
   ]
  },
  {
   "cell_type": "code",
   "execution_count": 817,
   "metadata": {},
   "outputs": [
    {
     "data": {
      "text/plain": [
       "array([('840-1253', '724-inf'), ('360-465', '100-209'),\n",
       "       ('201-279', '30-54'), ('201-279', '16-30'), ('1253-inf', '54-100'),\n",
       "       ('465-607', '9-16'), ('360-465', '9-16'), ('279-360', '16-30'),\n",
       "       ('279-360', '30-54'), ('1253-inf', '30-54'), ('0-201', '16-30'),\n",
       "       ('607-840', '16-30'), ('279-360', '9-16'), ('1253-inf', '16-30'),\n",
       "       ('840-1253', '16-30'), ('607-840', '30-54'), ('0-201', '9-16'),\n",
       "       ('607-840', '9-16'), ('840-1253', '9-16'), ('360-465', '0-9'),\n",
       "       ('201-279', '9-16'), ('201-279', '0-9'), ('360-465', '724-inf'),\n",
       "       ('201-279', '209-724'), ('279-360', '724-inf'),\n",
       "       ('840-1253', '209-724'), ('0-201', '724-inf'),\n",
       "       ('1253-inf', '724-inf'), ('201-279', '724-inf'),\n",
       "       ('1253-inf', '209-724'), ('465-607', '724-inf'),\n",
       "       ('607-840', '724-inf'), ('840-1253', '100-209'),\n",
       "       ('465-607', '209-724'), ('360-465', '209-724'),\n",
       "       ('279-360', '209-724'), ('607-840', '100-209'),\n",
       "       ('1253-inf', '100-209'), ('465-607', '54-100'),\n",
       "       ('607-840', '209-724'), ('0-201', '209-724'),\n",
       "       ('607-840', '54-100'), ('0-201', '100-209'), ('201-279', '54-100'),\n",
       "       ('840-1253', '54-100'), ('201-279', '100-209'),\n",
       "       ('0-201', '54-100'), ('0-201', '30-54'), ('279-360', '100-209'),\n",
       "       ('360-465', '30-54'), ('840-1253', '30-54'), ('360-465', '54-100'),\n",
       "       ('279-360', '54-100'), ('360-465', '16-30'), ('279-360', '0-9'),\n",
       "       ('1253-inf', '9-16'), ('465-607', '30-54'), ('465-607', '16-30'),\n",
       "       ('465-607', '0-9'), ('607-840', '0-9'), ('1253-inf', '0-9'),\n",
       "       ('840-1253', '0-9'), ('465-607', '100-209'), ('0-201', '0-9')],\n",
       "      dtype=object)"
      ]
     },
     "execution_count": 817,
     "metadata": {},
     "output_type": "execute_result"
    }
   ],
   "source": [
    "transition_df['s'].unique()"
   ]
  },
  {
   "cell_type": "code",
   "execution_count": 818,
   "metadata": {},
   "outputs": [],
   "source": [
    "#We save the dataframe to a csv file\n",
    "transition_df.to_csv('data/transition_matrix.csv', index=False)"
   ]
  },
  {
   "cell_type": "markdown",
   "metadata": {},
   "source": [
    "### III. We categorize the states and split our data into train and test sets."
   ]
  },
  {
   "cell_type": "code",
   "execution_count": 819,
   "metadata": {},
   "outputs": [],
   "source": [
    "transition_df = pd.read_csv('data/transition_matrix.csv')"
   ]
  },
  {
   "cell_type": "code",
   "execution_count": 820,
   "metadata": {},
   "outputs": [
    {
     "data": {
      "text/html": [
       "<div>\n",
       "<style scoped>\n",
       "    .dataframe tbody tr th:only-of-type {\n",
       "        vertical-align: middle;\n",
       "    }\n",
       "\n",
       "    .dataframe tbody tr th {\n",
       "        vertical-align: top;\n",
       "    }\n",
       "\n",
       "    .dataframe thead th {\n",
       "        text-align: right;\n",
       "    }\n",
       "</style>\n",
       "<table border=\"1\" class=\"dataframe\">\n",
       "  <thead>\n",
       "    <tr style=\"text-align: right;\">\n",
       "      <th></th>\n",
       "      <th>s</th>\n",
       "      <th>a</th>\n",
       "      <th>r</th>\n",
       "      <th>sp</th>\n",
       "    </tr>\n",
       "  </thead>\n",
       "  <tbody>\n",
       "    <tr>\n",
       "      <th>0</th>\n",
       "      <td>1</td>\n",
       "      <td>1</td>\n",
       "      <td>-1.128571</td>\n",
       "      <td>2</td>\n",
       "    </tr>\n",
       "    <tr>\n",
       "      <th>1</th>\n",
       "      <td>2</td>\n",
       "      <td>2</td>\n",
       "      <td>-1.000000</td>\n",
       "      <td>3</td>\n",
       "    </tr>\n",
       "    <tr>\n",
       "      <th>2</th>\n",
       "      <td>3</td>\n",
       "      <td>2</td>\n",
       "      <td>-0.742857</td>\n",
       "      <td>2</td>\n",
       "    </tr>\n",
       "    <tr>\n",
       "      <th>3</th>\n",
       "      <td>2</td>\n",
       "      <td>3</td>\n",
       "      <td>-1.000000</td>\n",
       "      <td>4</td>\n",
       "    </tr>\n",
       "    <tr>\n",
       "      <th>4</th>\n",
       "      <td>4</td>\n",
       "      <td>3</td>\n",
       "      <td>-0.485714</td>\n",
       "      <td>3</td>\n",
       "    </tr>\n",
       "  </tbody>\n",
       "</table>\n",
       "</div>"
      ],
      "text/plain": [
       "   s  a         r  sp\n",
       "0  1  1 -1.128571   2\n",
       "1  2  2 -1.000000   3\n",
       "2  3  2 -0.742857   2\n",
       "3  2  3 -1.000000   4\n",
       "4  4  3 -0.485714   3"
      ]
     },
     "execution_count": 820,
     "metadata": {},
     "output_type": "execute_result"
    }
   ],
   "source": [
    "#We get unique states from both 's' and 'sp' columns\n",
    "unique_states = pd.unique(transition_df[['s', 'sp']].values.ravel())\n",
    "#We create a mapping of states to integers\n",
    "state_to_int = {state: idx + 1 for idx, state in enumerate(unique_states)}\n",
    "int_to_state = {idx + 1: state for idx, state in enumerate(unique_states)}\n",
    "\n",
    "#We get unique actions from the 'a' column\n",
    "unique_actions = pd.unique(transition_df['a'])\n",
    "#We create a mapping of actions to integers\n",
    "action_to_int = {action: idx + 1 for idx, action in enumerate(unique_actions)}\n",
    "int_to_action = {idx + 1: action for idx, action in enumerate(unique_actions)}\n",
    "\n",
    "\n",
    "#We save the mapping to a json file\n",
    "with open('data/state_to_int.json', 'w') as f:\n",
    "    json.dump(state_to_int, f)\n",
    "\n",
    "with open('data/int_to_state.json', 'w') as f:\n",
    "    json.dump(int_to_state, f)\n",
    "\n",
    "with open('data/action_to_int.json', 'w') as f:\n",
    "    json.dump(action_to_int, f)\n",
    "\n",
    "with open('data/int_to_action.json', 'w') as f:\n",
    "    json.dump(int_to_action, f)\n",
    "\n",
    "\n",
    "#We apply the mapping to the 's' and 'sp' columns\n",
    "transition_df['s'] = transition_df['s'].map(state_to_int)\n",
    "transition_df['sp'] = transition_df['sp'].map(state_to_int)\n",
    "#We apply the mapping to the 'a' column\n",
    "transition_df['a'] = transition_df['a'].map(action_to_int)\n",
    "\n",
    "transition_df.head()"
   ]
  },
  {
   "cell_type": "code",
   "execution_count": 821,
   "metadata": {},
   "outputs": [
    {
     "name": "stdout",
     "output_type": "stream",
     "text": [
      "Number of states: 64\n",
      "Number of actions: 44\n"
     ]
    }
   ],
   "source": [
    "num_states = transition_df['s'].nunique()\n",
    "num_actions = transition_df['a'].nunique()\n",
    "gamma = 0.9\n",
    "print(f\"Number of states: {num_states}\")\n",
    "print(f\"Number of actions: {num_actions}\")"
   ]
  },
  {
   "cell_type": "code",
   "execution_count": 822,
   "metadata": {},
   "outputs": [],
   "source": [
    "#We save the transition matrix with the states mapped to integers\n",
    "transition_df.to_csv('data/transition_matrix_train_int.csv')"
   ]
  }
 ],
 "metadata": {
  "kernelspec": {
   "display_name": "Python 3",
   "language": "python",
   "name": "python3"
  },
  "language_info": {
   "codemirror_mode": {
    "name": "ipython",
    "version": 3
   },
   "file_extension": ".py",
   "mimetype": "text/x-python",
   "name": "python",
   "nbconvert_exporter": "python",
   "pygments_lexer": "ipython3",
   "version": "3.11.10"
  }
 },
 "nbformat": 4,
 "nbformat_minor": 2
}
