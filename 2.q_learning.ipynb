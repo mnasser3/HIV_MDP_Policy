{
 "cells": [
  {
   "cell_type": "markdown",
   "metadata": {},
   "source": [
    "# Q Learning Approach"
   ]
  },
  {
   "cell_type": "markdown",
   "metadata": {},
   "source": [
    "In this notebook, we simplify our problem as MDP where the states are fully observable and solve our task using q-learning. "
   ]
  },
  {
   "cell_type": "code",
   "execution_count": 23,
   "metadata": {},
   "outputs": [],
   "source": [
    "#We load the necessary libraries\n",
    "import pandas as pd\n",
    "import sys\n",
    "#We set the path to the project folder\n",
    "sys.path.append('/Users/mariehuynh/Desktop/PhD/Year 1/Fall Quarter/CS238/cs238_final_project/')\n",
    "from src.preprocessing import * \n",
    "from src.environment import *\n",
    "from src.policy_generator import *\n",
    "import json\n",
    "import numpy as np\n",
    "from src.evaluation import *"
   ]
  },
  {
   "cell_type": "code",
   "execution_count": 14,
   "metadata": {},
   "outputs": [
    {
     "name": "stdout",
     "output_type": "stream",
     "text": [
      "The autoreload extension is already loaded. To reload it, use:\n",
      "  %reload_ext autoreload\n"
     ]
    }
   ],
   "source": [
    "%load_ext autoreload\n",
    "%autoreload 2"
   ]
  },
  {
   "cell_type": "markdown",
   "metadata": {},
   "source": [
    "### I. We split our data and hold out a test set to evaluate our policy at the end."
   ]
  },
  {
   "cell_type": "code",
   "execution_count": 15,
   "metadata": {},
   "outputs": [],
   "source": [
    "transition_df = pd.read_csv('data/transition_matrix_train_int.csv', index_col=0)"
   ]
  },
  {
   "cell_type": "code",
   "execution_count": 16,
   "metadata": {},
   "outputs": [
    {
     "data": {
      "text/html": [
       "<div>\n",
       "<style scoped>\n",
       "    .dataframe tbody tr th:only-of-type {\n",
       "        vertical-align: middle;\n",
       "    }\n",
       "\n",
       "    .dataframe tbody tr th {\n",
       "        vertical-align: top;\n",
       "    }\n",
       "\n",
       "    .dataframe thead th {\n",
       "        text-align: right;\n",
       "    }\n",
       "</style>\n",
       "<table border=\"1\" class=\"dataframe\">\n",
       "  <thead>\n",
       "    <tr style=\"text-align: right;\">\n",
       "      <th></th>\n",
       "      <th>s</th>\n",
       "      <th>a</th>\n",
       "      <th>r</th>\n",
       "      <th>sp</th>\n",
       "    </tr>\n",
       "  </thead>\n",
       "  <tbody>\n",
       "    <tr>\n",
       "      <th>0</th>\n",
       "      <td>1</td>\n",
       "      <td>1.0</td>\n",
       "      <td>0</td>\n",
       "      <td>2</td>\n",
       "    </tr>\n",
       "    <tr>\n",
       "      <th>1</th>\n",
       "      <td>2</td>\n",
       "      <td>1.0</td>\n",
       "      <td>2</td>\n",
       "      <td>2</td>\n",
       "    </tr>\n",
       "    <tr>\n",
       "      <th>2</th>\n",
       "      <td>2</td>\n",
       "      <td>1.0</td>\n",
       "      <td>2</td>\n",
       "      <td>3</td>\n",
       "    </tr>\n",
       "    <tr>\n",
       "      <th>3</th>\n",
       "      <td>3</td>\n",
       "      <td>1.0</td>\n",
       "      <td>0</td>\n",
       "      <td>3</td>\n",
       "    </tr>\n",
       "    <tr>\n",
       "      <th>4</th>\n",
       "      <td>3</td>\n",
       "      <td>1.0</td>\n",
       "      <td>4</td>\n",
       "      <td>2</td>\n",
       "    </tr>\n",
       "  </tbody>\n",
       "</table>\n",
       "</div>"
      ],
      "text/plain": [
       "   s    a  r  sp\n",
       "0  1  1.0  0   2\n",
       "1  2  1.0  2   2\n",
       "2  2  1.0  2   3\n",
       "3  3  1.0  0   3\n",
       "4  3  1.0  4   2"
      ]
     },
     "execution_count": 16,
     "metadata": {},
     "output_type": "execute_result"
    }
   ],
   "source": [
    "transition_df.head()"
   ]
  },
  {
   "cell_type": "code",
   "execution_count": 17,
   "metadata": {},
   "outputs": [
    {
     "name": "stdout",
     "output_type": "stream",
     "text": [
      "Number of states: 20\n",
      "Number of actions: 6\n"
     ]
    }
   ],
   "source": [
    "num_states = transition_df['s'].nunique()\n",
    "num_actions = transition_df['a'].nunique()\n",
    "gamma = 0.9\n",
    "print(f\"Number of states: {num_states}\")\n",
    "print(f\"Number of actions: {num_actions}\")"
   ]
  },
  {
   "cell_type": "code",
   "execution_count": 18,
   "metadata": {},
   "outputs": [
    {
     "name": "stdout",
     "output_type": "stream",
     "text": [
      "Iteration 0/10\n",
      "Iteration 1/10\n",
      "Iteration 2/10\n",
      "Iteration 3/10\n",
      "Iteration 4/10\n",
      "Iteration 5/10\n",
      "Iteration 6/10\n",
      "Iteration 7/10\n",
      "Iteration 8/10\n",
      "Iteration 9/10\n"
     ]
    }
   ],
   "source": [
    "ql = QLearning(num_states, num_actions, gamma=gamma)\n",
    "#We train the Q-learning object\n",
    "ql.train(transition_df, num_iterations=10)\n",
    "#We write the policy to a file\n",
    "ql.write_policy(\"hiv\")"
   ]
  },
  {
   "cell_type": "markdown",
   "metadata": {},
   "source": [
    "### II. Now, we want to evaluate our policy. "
   ]
  },
  {
   "cell_type": "code",
   "execution_count": 19,
   "metadata": {},
   "outputs": [],
   "source": [
    "test = pd.read_csv('data/test.csv', index_col=0)"
   ]
  },
  {
   "cell_type": "code",
   "execution_count": 20,
   "metadata": {},
   "outputs": [
    {
     "data": {
      "text/html": [
       "<div>\n",
       "<style scoped>\n",
       "    .dataframe tbody tr th:only-of-type {\n",
       "        vertical-align: middle;\n",
       "    }\n",
       "\n",
       "    .dataframe tbody tr th {\n",
       "        vertical-align: top;\n",
       "    }\n",
       "\n",
       "    .dataframe thead th {\n",
       "        text-align: right;\n",
       "    }\n",
       "</style>\n",
       "<table border=\"1\" class=\"dataframe\">\n",
       "  <thead>\n",
       "    <tr style=\"text-align: right;\">\n",
       "      <th></th>\n",
       "      <th>VL</th>\n",
       "      <th>CD4</th>\n",
       "      <th>Base Drug Combo</th>\n",
       "      <th>PatientID</th>\n",
       "      <th>Timepoints</th>\n",
       "      <th>VL_Binned</th>\n",
       "      <th>CD4_Binned</th>\n",
       "    </tr>\n",
       "  </thead>\n",
       "  <tbody>\n",
       "    <tr>\n",
       "      <th>0</th>\n",
       "      <td>1141.895800</td>\n",
       "      <td>1070.03560</td>\n",
       "      <td>0.0</td>\n",
       "      <td>0</td>\n",
       "      <td>0</td>\n",
       "      <td>200+</td>\n",
       "      <td>500-1500</td>\n",
       "    </tr>\n",
       "    <tr>\n",
       "      <th>1</th>\n",
       "      <td>134.190550</td>\n",
       "      <td>444.54190</td>\n",
       "      <td>0.0</td>\n",
       "      <td>0</td>\n",
       "      <td>1</td>\n",
       "      <td>75-200</td>\n",
       "      <td>300-500</td>\n",
       "    </tr>\n",
       "    <tr>\n",
       "      <th>2</th>\n",
       "      <td>47.274055</td>\n",
       "      <td>230.53404</td>\n",
       "      <td>0.0</td>\n",
       "      <td>0</td>\n",
       "      <td>2</td>\n",
       "      <td>20-75</td>\n",
       "      <td>200-300</td>\n",
       "    </tr>\n",
       "    <tr>\n",
       "      <th>3</th>\n",
       "      <td>120.055940</td>\n",
       "      <td>419.28403</td>\n",
       "      <td>1.0</td>\n",
       "      <td>0</td>\n",
       "      <td>3</td>\n",
       "      <td>75-200</td>\n",
       "      <td>300-500</td>\n",
       "    </tr>\n",
       "    <tr>\n",
       "      <th>4</th>\n",
       "      <td>27.249084</td>\n",
       "      <td>230.72127</td>\n",
       "      <td>1.0</td>\n",
       "      <td>0</td>\n",
       "      <td>4</td>\n",
       "      <td>20-75</td>\n",
       "      <td>200-300</td>\n",
       "    </tr>\n",
       "    <tr>\n",
       "      <th>...</th>\n",
       "      <td>...</td>\n",
       "      <td>...</td>\n",
       "      <td>...</td>\n",
       "      <td>...</td>\n",
       "      <td>...</td>\n",
       "      <td>...</td>\n",
       "      <td>...</td>\n",
       "    </tr>\n",
       "    <tr>\n",
       "      <th>534895</th>\n",
       "      <td>163.896420</td>\n",
       "      <td>232.44673</td>\n",
       "      <td>0.0</td>\n",
       "      <td>8914</td>\n",
       "      <td>55</td>\n",
       "      <td>75-200</td>\n",
       "      <td>200-300</td>\n",
       "    </tr>\n",
       "    <tr>\n",
       "      <th>534896</th>\n",
       "      <td>33.685238</td>\n",
       "      <td>813.52545</td>\n",
       "      <td>0.0</td>\n",
       "      <td>8914</td>\n",
       "      <td>56</td>\n",
       "      <td>20-75</td>\n",
       "      <td>500-1500</td>\n",
       "    </tr>\n",
       "    <tr>\n",
       "      <th>534897</th>\n",
       "      <td>50.742954</td>\n",
       "      <td>680.18713</td>\n",
       "      <td>0.0</td>\n",
       "      <td>8914</td>\n",
       "      <td>57</td>\n",
       "      <td>20-75</td>\n",
       "      <td>500-1500</td>\n",
       "    </tr>\n",
       "    <tr>\n",
       "      <th>534898</th>\n",
       "      <td>148.255130</td>\n",
       "      <td>222.81631</td>\n",
       "      <td>0.0</td>\n",
       "      <td>8914</td>\n",
       "      <td>58</td>\n",
       "      <td>75-200</td>\n",
       "      <td>200-300</td>\n",
       "    </tr>\n",
       "    <tr>\n",
       "      <th>534899</th>\n",
       "      <td>175.212600</td>\n",
       "      <td>959.87610</td>\n",
       "      <td>0.0</td>\n",
       "      <td>8914</td>\n",
       "      <td>59</td>\n",
       "      <td>75-200</td>\n",
       "      <td>500-1500</td>\n",
       "    </tr>\n",
       "  </tbody>\n",
       "</table>\n",
       "<p>107040 rows × 7 columns</p>\n",
       "</div>"
      ],
      "text/plain": [
       "                 VL         CD4  Base Drug Combo  PatientID  Timepoints  \\\n",
       "0       1141.895800  1070.03560              0.0          0           0   \n",
       "1        134.190550   444.54190              0.0          0           1   \n",
       "2         47.274055   230.53404              0.0          0           2   \n",
       "3        120.055940   419.28403              1.0          0           3   \n",
       "4         27.249084   230.72127              1.0          0           4   \n",
       "...             ...         ...              ...        ...         ...   \n",
       "534895   163.896420   232.44673              0.0       8914          55   \n",
       "534896    33.685238   813.52545              0.0       8914          56   \n",
       "534897    50.742954   680.18713              0.0       8914          57   \n",
       "534898   148.255130   222.81631              0.0       8914          58   \n",
       "534899   175.212600   959.87610              0.0       8914          59   \n",
       "\n",
       "       VL_Binned CD4_Binned  \n",
       "0           200+   500-1500  \n",
       "1         75-200    300-500  \n",
       "2          20-75    200-300  \n",
       "3         75-200    300-500  \n",
       "4          20-75    200-300  \n",
       "...          ...        ...  \n",
       "534895    75-200    200-300  \n",
       "534896     20-75   500-1500  \n",
       "534897     20-75   500-1500  \n",
       "534898    75-200    200-300  \n",
       "534899    75-200   500-1500  \n",
       "\n",
       "[107040 rows x 7 columns]"
      ]
     },
     "execution_count": 20,
     "metadata": {},
     "output_type": "execute_result"
    }
   ],
   "source": [
    "test"
   ]
  },
  {
   "cell_type": "code",
   "execution_count": 21,
   "metadata": {},
   "outputs": [
    {
     "name": "stdout",
     "output_type": "stream",
     "text": [
      "Processed 0 patients...\n",
      "Processed 500 patients...\n",
      "Processed 700 patients...\n",
      "Processed 800 patients...\n",
      "Processed 1400 patients...\n",
      "Processed 3100 patients...\n",
      "Processed 4100 patients...\n",
      "Processed 4700 patients...\n",
      "Processed 4900 patients...\n",
      "Processed 5100 patients...\n",
      "Processed 5700 patients...\n",
      "Processed 6000 patients...\n",
      "Processed 7000 patients...\n",
      "Processed 8100 patients...\n",
      "Processed 8200 patients...\n",
      "Processed 8500 patients...\n",
      "Processed 8800 patients...\n"
     ]
    }
   ],
   "source": [
    "transition_df_test = create_transitions(test)"
   ]
  },
  {
   "cell_type": "code",
   "execution_count": 22,
   "metadata": {},
   "outputs": [
    {
     "data": {
      "text/html": [
       "<div>\n",
       "<style scoped>\n",
       "    .dataframe tbody tr th:only-of-type {\n",
       "        vertical-align: middle;\n",
       "    }\n",
       "\n",
       "    .dataframe tbody tr th {\n",
       "        vertical-align: top;\n",
       "    }\n",
       "\n",
       "    .dataframe thead th {\n",
       "        text-align: right;\n",
       "    }\n",
       "</style>\n",
       "<table border=\"1\" class=\"dataframe\">\n",
       "  <thead>\n",
       "    <tr style=\"text-align: right;\">\n",
       "      <th></th>\n",
       "      <th>s</th>\n",
       "      <th>a</th>\n",
       "      <th>r</th>\n",
       "      <th>sp</th>\n",
       "    </tr>\n",
       "  </thead>\n",
       "  <tbody>\n",
       "    <tr>\n",
       "      <th>0</th>\n",
       "      <td>(500-1500, 200+)</td>\n",
       "      <td>1.0</td>\n",
       "      <td>2</td>\n",
       "      <td>(300-500, 75-200)</td>\n",
       "    </tr>\n",
       "    <tr>\n",
       "      <th>1</th>\n",
       "      <td>(300-500, 75-200)</td>\n",
       "      <td>1.0</td>\n",
       "      <td>2</td>\n",
       "      <td>(200-300, 20-75)</td>\n",
       "    </tr>\n",
       "    <tr>\n",
       "      <th>2</th>\n",
       "      <td>(200-300, 20-75)</td>\n",
       "      <td>1.0</td>\n",
       "      <td>0</td>\n",
       "      <td>(300-500, 75-200)</td>\n",
       "    </tr>\n",
       "    <tr>\n",
       "      <th>3</th>\n",
       "      <td>(300-500, 75-200)</td>\n",
       "      <td>2.0</td>\n",
       "      <td>2</td>\n",
       "      <td>(200-300, 20-75)</td>\n",
       "    </tr>\n",
       "    <tr>\n",
       "      <th>4</th>\n",
       "      <td>(200-300, 20-75)</td>\n",
       "      <td>2.0</td>\n",
       "      <td>-2</td>\n",
       "      <td>(200-300, 20-75)</td>\n",
       "    </tr>\n",
       "    <tr>\n",
       "      <th>...</th>\n",
       "      <td>...</td>\n",
       "      <td>...</td>\n",
       "      <td>...</td>\n",
       "      <td>...</td>\n",
       "    </tr>\n",
       "    <tr>\n",
       "      <th>105251</th>\n",
       "      <td>(500-1500, 75-200)</td>\n",
       "      <td>1.0</td>\n",
       "      <td>-2</td>\n",
       "      <td>(200-300, 75-200)</td>\n",
       "    </tr>\n",
       "    <tr>\n",
       "      <th>105252</th>\n",
       "      <td>(200-300, 75-200)</td>\n",
       "      <td>1.0</td>\n",
       "      <td>4</td>\n",
       "      <td>(500-1500, 20-75)</td>\n",
       "    </tr>\n",
       "    <tr>\n",
       "      <th>105253</th>\n",
       "      <td>(500-1500, 20-75)</td>\n",
       "      <td>1.0</td>\n",
       "      <td>-2</td>\n",
       "      <td>(500-1500, 20-75)</td>\n",
       "    </tr>\n",
       "    <tr>\n",
       "      <th>105254</th>\n",
       "      <td>(500-1500, 20-75)</td>\n",
       "      <td>1.0</td>\n",
       "      <td>-2</td>\n",
       "      <td>(200-300, 75-200)</td>\n",
       "    </tr>\n",
       "    <tr>\n",
       "      <th>105255</th>\n",
       "      <td>(200-300, 75-200)</td>\n",
       "      <td>1.0</td>\n",
       "      <td>0</td>\n",
       "      <td>(500-1500, 75-200)</td>\n",
       "    </tr>\n",
       "  </tbody>\n",
       "</table>\n",
       "<p>105256 rows × 4 columns</p>\n",
       "</div>"
      ],
      "text/plain": [
       "                         s    a  r                  sp\n",
       "0         (500-1500, 200+)  1.0  2   (300-500, 75-200)\n",
       "1        (300-500, 75-200)  1.0  2    (200-300, 20-75)\n",
       "2         (200-300, 20-75)  1.0  0   (300-500, 75-200)\n",
       "3        (300-500, 75-200)  2.0  2    (200-300, 20-75)\n",
       "4         (200-300, 20-75)  2.0 -2    (200-300, 20-75)\n",
       "...                    ...  ... ..                 ...\n",
       "105251  (500-1500, 75-200)  1.0 -2   (200-300, 75-200)\n",
       "105252   (200-300, 75-200)  1.0  4   (500-1500, 20-75)\n",
       "105253   (500-1500, 20-75)  1.0 -2   (500-1500, 20-75)\n",
       "105254   (500-1500, 20-75)  1.0 -2   (200-300, 75-200)\n",
       "105255   (200-300, 75-200)  1.0  0  (500-1500, 75-200)\n",
       "\n",
       "[105256 rows x 4 columns]"
      ]
     },
     "execution_count": 22,
     "metadata": {},
     "output_type": "execute_result"
    }
   ],
   "source": [
    "transition_df_test"
   ]
  },
  {
   "cell_type": "code",
   "execution_count": 33,
   "metadata": {},
   "outputs": [
    {
     "data": {
      "text/plain": [
       "20"
      ]
     },
     "execution_count": 33,
     "metadata": {},
     "output_type": "execute_result"
    }
   ],
   "source": [
    "#We load the mapping of states to int\n",
    "with open('data/state_to_int.json', 'r') as f:\n",
    "    state_mapping = json.load(f)\n",
    "len(state_mapping)"
   ]
  },
  {
   "cell_type": "code",
   "execution_count": 73,
   "metadata": {},
   "outputs": [],
   "source": [
    "def get_state_mapping(state, state_mapping):\n",
    "    return state_mapping[str(state)]"
   ]
  },
  {
   "cell_type": "code",
   "execution_count": 74,
   "metadata": {},
   "outputs": [
    {
     "data": {
      "text/html": [
       "<div>\n",
       "<style scoped>\n",
       "    .dataframe tbody tr th:only-of-type {\n",
       "        vertical-align: middle;\n",
       "    }\n",
       "\n",
       "    .dataframe tbody tr th {\n",
       "        vertical-align: top;\n",
       "    }\n",
       "\n",
       "    .dataframe thead th {\n",
       "        text-align: right;\n",
       "    }\n",
       "</style>\n",
       "<table border=\"1\" class=\"dataframe\">\n",
       "  <thead>\n",
       "    <tr style=\"text-align: right;\">\n",
       "      <th></th>\n",
       "      <th>s</th>\n",
       "      <th>a</th>\n",
       "      <th>r</th>\n",
       "      <th>sp</th>\n",
       "    </tr>\n",
       "  </thead>\n",
       "  <tbody>\n",
       "    <tr>\n",
       "      <th>0</th>\n",
       "      <td>2</td>\n",
       "      <td>1.0</td>\n",
       "      <td>2</td>\n",
       "      <td>10</td>\n",
       "    </tr>\n",
       "    <tr>\n",
       "      <th>1</th>\n",
       "      <td>10</td>\n",
       "      <td>1.0</td>\n",
       "      <td>2</td>\n",
       "      <td>14</td>\n",
       "    </tr>\n",
       "    <tr>\n",
       "      <th>2</th>\n",
       "      <td>14</td>\n",
       "      <td>1.0</td>\n",
       "      <td>0</td>\n",
       "      <td>10</td>\n",
       "    </tr>\n",
       "    <tr>\n",
       "      <th>3</th>\n",
       "      <td>10</td>\n",
       "      <td>2.0</td>\n",
       "      <td>2</td>\n",
       "      <td>14</td>\n",
       "    </tr>\n",
       "    <tr>\n",
       "      <th>4</th>\n",
       "      <td>14</td>\n",
       "      <td>2.0</td>\n",
       "      <td>-2</td>\n",
       "      <td>14</td>\n",
       "    </tr>\n",
       "  </tbody>\n",
       "</table>\n",
       "</div>"
      ],
      "text/plain": [
       "    s    a  r  sp\n",
       "0   2  1.0  2  10\n",
       "1  10  1.0  2  14\n",
       "2  14  1.0  0  10\n",
       "3  10  2.0  2  14\n",
       "4  14  2.0 -2  14"
      ]
     },
     "execution_count": 74,
     "metadata": {},
     "output_type": "execute_result"
    }
   ],
   "source": [
    "#We apply this mapping to the test data\n",
    "transition_df_test['s'] = transition_df_test['s'].apply(get_state_mapping, args=(state_mapping,))\n",
    "transition_df_test['sp'] = transition_df_test['sp'].apply(get_state_mapping, args=(state_mapping,))\n",
    "transition_df_test.head()"
   ]
  },
  {
   "cell_type": "code",
   "execution_count": 112,
   "metadata": {},
   "outputs": [
    {
     "data": {
      "text/plain": [
       "{1: 6,\n",
       " 2: 6,\n",
       " 3: 6,\n",
       " 4: 6,\n",
       " 5: 2,\n",
       " 6: 1,\n",
       " 7: 4,\n",
       " 8: 4,\n",
       " 9: 6,\n",
       " 10: 6,\n",
       " 11: 5,\n",
       " 12: 3,\n",
       " 13: 5,\n",
       " 14: 6,\n",
       " 15: 4,\n",
       " 16: 6,\n",
       " 17: 6,\n",
       " 18: 6,\n",
       " 19: 2,\n",
       " 20: 4}"
      ]
     },
     "execution_count": 112,
     "metadata": {},
     "output_type": "execute_result"
    }
   ],
   "source": [
    "#We read the policy from the file\n",
    "policy = read_policy(\"hiv.policy\")\n",
    "policy"
   ]
  },
  {
   "cell_type": "code",
   "execution_count": 113,
   "metadata": {},
   "outputs": [
    {
     "name": "stdout",
     "output_type": "stream",
     "text": [
      "{2.0: {1.0: 0.9035260055837039, 6.0: 0.009409575018095336, 2.0: 0.06896908282494055, 4.0: 0.012098025023265433, 3.0: 0.005790507703443284, 5.0: 0.00020680384655154586}, 10.0: {1.0: 0.8501369180980831, 2.0: 0.07966143888473985, 4.0: 0.04356484939009211, 6.0: 0.013940751804829475, 5.0: 0.009210853871048046, 3.0: 0.0034851879512073688}, 14.0: {1.0: 0.7528854080791426, 2.0: 0.06801319043693323, 4.0: 0.052967848309975266, 6.0: 0.07893652102225886, 5.0: 0.04513602638087387, 3.0: 0.002061005770816158}, 7.0: {2.0: 0.16747572815533981, 4.0: 0.06844660194174758, 1.0: 0.7063106796116505, 6.0: 0.04951456310679612, 3.0: 0.005339805825242718, 5.0: 0.002912621359223301}, 19.0: {4.0: 0.06606942889137737, 2.0: 0.254630028426221, 1.0: 0.5491429063657507, 5.0: 0.036609527091050045, 6.0: 0.06348522697906797, 3.0: 0.030062882246532863}, 18.0: {4.0: 0.06867311596799236, 1.0: 0.5616863728651619, 2.0: 0.16111310163621162, 5.0: 0.12528364982682433, 6.0: 0.05661053385883196, 3.0: 0.026633225844977904}, 16.0: {4.0: 0.09374387134732301, 1.0: 0.6048244753873309, 2.0: 0.20101980780545206, 6.0: 0.08374191017846637, 3.0: 0.005687389684251814, 5.0: 0.010982545597175916}, 15.0: {4.0: 0.0792149110420785, 1.0: 0.7493645862750635, 6.0: 0.04574978819542502, 5.0: 0.053798362044620164, 2.0: 0.06664783959333521, 3.0: 0.005224512849477549}, 13.0: {2.0: 0.14231433506044905, 1.0: 0.7443868739205527, 4.0: 0.1001727115716753, 6.0: 0.01070811744386874, 5.0: 0.0010362694300518134, 3.0: 0.001381692573402418}, 9.0: {2.0: 0.11840997136600977, 1.0: 0.7886979956206839, 4.0: 0.036297793498399865, 5.0: 0.012464207512211554, 6.0: 0.03233956543708944, 3.0: 0.011790466565605525}, 17.0: {1.0: 0.5975773889636609, 6.0: 0.004037685060565276, 2.0: 0.34320323014804843, 4.0: 0.05491251682368775, 3.0: 0.00026917900403768504}, 4.0: {1.0: 0.7776687116564417, 4.0: 0.04171779141104295, 2.0: 0.1523926380368098, 3.0: 0.014723926380368098, 6.0: 0.013496932515337423}, 1.0: {1.0: 0.8282907049282595, 4.0: 0.03446662507797879, 6.0: 0.018558951965065504, 2.0: 0.11618839675608235, 5.0: 0.0007797878976918279, 3.0: 0.0017155333749220212}, 12.0: {1.0: 0.8501859993236388, 4.0: 0.03855258708150152, 6.0: 0.021305377071356105, 3.0: 0.002705444707473791, 2.0: 0.07237064592492391, 5.0: 0.014879945891105851}, 20.0: {1.0: 0.2824835526315789, 2.0: 0.4576480263157895, 4.0: 0.13939144736842105, 6.0: 0.11389802631578948, 5.0: 0.0024671052631578946, 3.0: 0.004111842105263158}, 3.0: {1.0: 0.8290072859744991, 6.0: 0.016621129326047358, 4.0: 0.03961748633879782, 3.0: 0.002959927140255009, 2.0: 0.10974499089253188, 5.0: 0.0020491803278688526}, 6.0: {1.0: 0.9055263157894737, 2.0: 0.060657894736842105, 6.0: 0.010921052631578948, 3.0: 0.005789473684210527, 4.0: 0.01486842105263158, 5.0: 0.0022368421052631577}, 5.0: {1.0: 0.883061049011178, 3.0: 0.00816852966466036, 2.0: 0.10490111779879621, 4.0: 0.0025795356835769563, 6.0: 0.0012897678417884782}, 8.0: {1.0: 0.8847761194029851, 4.0: 0.007164179104477612, 2.0: 0.1008955223880597, 6.0: 0.005970149253731343, 3.0: 0.0011940298507462687}, 11.0: {1.0: 0.8546728971962617, 2.0: 0.07383177570093458, 4.0: 0.058878504672897194, 3.0: 0.0014018691588785046, 6.0: 0.011214953271028037}}\n"
     ]
    }
   ],
   "source": [
    "# Suppose `heldout_data` is your dataset\n",
    "# Initialize a dictionary to store action counts for each state\n",
    "from collections import defaultdict\n",
    "action_counts = defaultdict(lambda: defaultdict(int))\n",
    "state_counts = defaultdict(int)\n",
    "\n",
    "# Count occurrences of each action for each state\n",
    "for i in range(len(transition_df_test)):\n",
    "    row = transition_df_test.iloc[i]\n",
    "    state = row['s']\n",
    "    action = row['a']\n",
    "    action_counts[state][action] += 1\n",
    "    state_counts[state] += 1\n",
    "\n",
    "# Compute behavior policy probabilities\n",
    "behavior_policy = {}\n",
    "for state, actions in action_counts.items():\n",
    "    behavior_policy[state] = {action: count / state_counts[state] for action, count in actions.items()}\n",
    "\n",
    "# Now `behavior_policy` maps (state, action) pairs to probabilities\n",
    "print(behavior_policy)"
   ]
  },
  {
   "cell_type": "code",
   "execution_count": 119,
   "metadata": {},
   "outputs": [],
   "source": [
    "def evaluate_deterministic_policy_heldout_wis(heldout_data, deterministic_policy, behavior_policy):\n",
    "    weighted_rewards = []\n",
    "    weights = []\n",
    "\n",
    "    for i in range(len(heldout_data)):\n",
    "        data = heldout_data.iloc[i]\n",
    "        state = data['s']\n",
    "        action = data['a']\n",
    "        reward = data['r']\n",
    "        deterministic_policy_action = deterministic_policy[state]\n",
    "\n",
    "        if (deterministic_policy_action == action):\n",
    "            behavior_prob = behavior_policy[state][action]\n",
    "            weight = 1 / behavior_prob if behavior_prob > 0 else 0\n",
    "            weights.append(weight)\n",
    "            weighted_rewards.append(weight * reward)\n",
    "        else:\n",
    "            weights.append(0)\n",
    "            weighted_rewards.append(0)\n",
    "\n",
    "    # Normalize by sum of weights\n",
    "    return sum(weighted_rewards) / sum(weights) if sum(weights) > 0 else 0"
   ]
  },
  {
   "cell_type": "code",
   "execution_count": 116,
   "metadata": {},
   "outputs": [
    {
     "data": {
      "text/plain": [
       "0          2\n",
       "1         10\n",
       "2         14\n",
       "3         10\n",
       "4         14\n",
       "          ..\n",
       "105251     6\n",
       "105252    12\n",
       "105253     9\n",
       "105254     9\n",
       "105255    12\n",
       "Name: s, Length: 105256, dtype: int64"
      ]
     },
     "execution_count": 116,
     "metadata": {},
     "output_type": "execute_result"
    }
   ],
   "source": [
    "transition_df_test['s']"
   ]
  },
  {
   "cell_type": "code",
   "execution_count": 117,
   "metadata": {},
   "outputs": [
    {
     "data": {
      "text/html": [
       "<div>\n",
       "<style scoped>\n",
       "    .dataframe tbody tr th:only-of-type {\n",
       "        vertical-align: middle;\n",
       "    }\n",
       "\n",
       "    .dataframe tbody tr th {\n",
       "        vertical-align: top;\n",
       "    }\n",
       "\n",
       "    .dataframe thead th {\n",
       "        text-align: right;\n",
       "    }\n",
       "</style>\n",
       "<table border=\"1\" class=\"dataframe\">\n",
       "  <thead>\n",
       "    <tr style=\"text-align: right;\">\n",
       "      <th></th>\n",
       "      <th>s</th>\n",
       "      <th>a</th>\n",
       "      <th>r</th>\n",
       "      <th>sp</th>\n",
       "    </tr>\n",
       "  </thead>\n",
       "  <tbody>\n",
       "    <tr>\n",
       "      <th>0</th>\n",
       "      <td>2</td>\n",
       "      <td>1.0</td>\n",
       "      <td>2</td>\n",
       "      <td>10</td>\n",
       "    </tr>\n",
       "    <tr>\n",
       "      <th>1</th>\n",
       "      <td>10</td>\n",
       "      <td>1.0</td>\n",
       "      <td>2</td>\n",
       "      <td>14</td>\n",
       "    </tr>\n",
       "    <tr>\n",
       "      <th>2</th>\n",
       "      <td>14</td>\n",
       "      <td>1.0</td>\n",
       "      <td>0</td>\n",
       "      <td>10</td>\n",
       "    </tr>\n",
       "    <tr>\n",
       "      <th>3</th>\n",
       "      <td>10</td>\n",
       "      <td>2.0</td>\n",
       "      <td>2</td>\n",
       "      <td>14</td>\n",
       "    </tr>\n",
       "    <tr>\n",
       "      <th>4</th>\n",
       "      <td>14</td>\n",
       "      <td>2.0</td>\n",
       "      <td>-2</td>\n",
       "      <td>14</td>\n",
       "    </tr>\n",
       "    <tr>\n",
       "      <th>...</th>\n",
       "      <td>...</td>\n",
       "      <td>...</td>\n",
       "      <td>...</td>\n",
       "      <td>...</td>\n",
       "    </tr>\n",
       "    <tr>\n",
       "      <th>105251</th>\n",
       "      <td>6</td>\n",
       "      <td>1.0</td>\n",
       "      <td>-2</td>\n",
       "      <td>12</td>\n",
       "    </tr>\n",
       "    <tr>\n",
       "      <th>105252</th>\n",
       "      <td>12</td>\n",
       "      <td>1.0</td>\n",
       "      <td>4</td>\n",
       "      <td>9</td>\n",
       "    </tr>\n",
       "    <tr>\n",
       "      <th>105253</th>\n",
       "      <td>9</td>\n",
       "      <td>1.0</td>\n",
       "      <td>-2</td>\n",
       "      <td>9</td>\n",
       "    </tr>\n",
       "    <tr>\n",
       "      <th>105254</th>\n",
       "      <td>9</td>\n",
       "      <td>1.0</td>\n",
       "      <td>-2</td>\n",
       "      <td>12</td>\n",
       "    </tr>\n",
       "    <tr>\n",
       "      <th>105255</th>\n",
       "      <td>12</td>\n",
       "      <td>1.0</td>\n",
       "      <td>0</td>\n",
       "      <td>6</td>\n",
       "    </tr>\n",
       "  </tbody>\n",
       "</table>\n",
       "<p>105256 rows × 4 columns</p>\n",
       "</div>"
      ],
      "text/plain": [
       "         s    a  r  sp\n",
       "0        2  1.0  2  10\n",
       "1       10  1.0  2  14\n",
       "2       14  1.0  0  10\n",
       "3       10  2.0  2  14\n",
       "4       14  2.0 -2  14\n",
       "...     ..  ... ..  ..\n",
       "105251   6  1.0 -2  12\n",
       "105252  12  1.0  4   9\n",
       "105253   9  1.0 -2   9\n",
       "105254   9  1.0 -2  12\n",
       "105255  12  1.0  0   6\n",
       "\n",
       "[105256 rows x 4 columns]"
      ]
     },
     "execution_count": 117,
     "metadata": {},
     "output_type": "execute_result"
    }
   ],
   "source": [
    "transition_df_test"
   ]
  },
  {
   "cell_type": "code",
   "execution_count": 120,
   "metadata": {},
   "outputs": [
    {
     "name": "stdout",
     "output_type": "stream",
     "text": [
      "Estimated Policy Value (WIS): 2.0937152477033094\n"
     ]
    }
   ],
   "source": [
    "# Example usage\n",
    "policy_value_wis = evaluate_deterministic_policy_heldout_wis(transition_df_test, policy, behavior_policy)\n",
    "print(f\"Estimated Policy Value (WIS): {policy_value_wis}\")"
   ]
  },
  {
   "cell_type": "code",
   "execution_count": 121,
   "metadata": {},
   "outputs": [
    {
     "data": {
      "text/plain": [
       "{2.0: 6.0,\n",
       " 10.0: 3.0,\n",
       " 14.0: 2.0,\n",
       " 7.0: 1.0,\n",
       " 19.0: 6.0,\n",
       " 18.0: 6.0,\n",
       " 16.0: 4.0,\n",
       " 15.0: 5.0,\n",
       " 13.0: 6.0,\n",
       " 9.0: 5.0,\n",
       " 17.0: 2.0,\n",
       " 4.0: 4.0,\n",
       " 1.0: 2.0,\n",
       " 12.0: 1.0,\n",
       " 20.0: 1.0,\n",
       " 3.0: 4.0,\n",
       " 6.0: 4.0,\n",
       " 5.0: 1.0,\n",
       " 8.0: 2.0,\n",
       " 11.0: 3.0}"
      ]
     },
     "execution_count": 121,
     "metadata": {},
     "output_type": "execute_result"
    }
   ],
   "source": [
    "#Can we do a random policy?\n",
    "random_policy = {}\n",
    "for state in action_counts.keys():\n",
    "    random_policy[state] = np.random.choice(list(action_counts[state].keys()))\n",
    "\n",
    "random_policy"
   ]
  },
  {
   "cell_type": "code",
   "execution_count": 122,
   "metadata": {},
   "outputs": [
    {
     "name": "stdout",
     "output_type": "stream",
     "text": [
      "Estimated Random Policy Value (WIS): 1.1972979143885312\n"
     ]
    }
   ],
   "source": [
    "# Example usage\n",
    "random_policy_wis = evaluate_deterministic_policy_heldout_wis(transition_df_test, random_policy, behavior_policy)\n",
    "print(f\"Estimated Random Policy Value (WIS): {random_policy_wis}\")"
   ]
  }
 ],
 "metadata": {
  "kernelspec": {
   "display_name": "base",
   "language": "python",
   "name": "python3"
  },
  "language_info": {
   "codemirror_mode": {
    "name": "ipython",
    "version": 3
   },
   "file_extension": ".py",
   "mimetype": "text/x-python",
   "name": "python",
   "nbconvert_exporter": "python",
   "pygments_lexer": "ipython3",
   "version": "3.8.5"
  }
 },
 "nbformat": 4,
 "nbformat_minor": 2
}
