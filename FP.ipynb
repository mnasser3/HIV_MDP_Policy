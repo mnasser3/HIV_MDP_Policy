{
 "cells": [
  {
   "cell_type": "code",
   "execution_count": 853,
   "metadata": {},
   "outputs": [],
   "source": [
    "import sys\n",
    "sys.path.append(\"/Users/mn/Desktop/Final_Project/cs238_final_project/marc\")"
   ]
  },
  {
   "cell_type": "code",
   "execution_count": 854,
   "metadata": {},
   "outputs": [],
   "source": [
    "import pandas as pd\n",
    "import numpy as np\n",
    "import matplotlib.pyplot as plt\n",
    "from model_based import *\n",
    "from evaluator import *\n",
    "import json\n",
    "import re\n",
    "import matplotlib.pyplot as plt"
   ]
  },
  {
   "cell_type": "code",
   "execution_count": 855,
   "metadata": {},
   "outputs": [
    {
     "name": "stdout",
     "output_type": "stream",
     "text": [
      "The autoreload extension is already loaded. To reload it, use:\n",
      "  %reload_ext autoreload\n"
     ]
    }
   ],
   "source": [
    "%load_ext autoreload\n",
    "%autoreload 2"
   ]
  },
  {
   "cell_type": "code",
   "execution_count": 856,
   "metadata": {},
   "outputs": [
    {
     "data": {
      "text/html": [
       "<div>\n",
       "<style scoped>\n",
       "    .dataframe tbody tr th:only-of-type {\n",
       "        vertical-align: middle;\n",
       "    }\n",
       "\n",
       "    .dataframe tbody tr th {\n",
       "        vertical-align: top;\n",
       "    }\n",
       "\n",
       "    .dataframe thead th {\n",
       "        text-align: right;\n",
       "    }\n",
       "</style>\n",
       "<table border=\"1\" class=\"dataframe\">\n",
       "  <thead>\n",
       "    <tr style=\"text-align: right;\">\n",
       "      <th></th>\n",
       "      <th>Unnamed: 0</th>\n",
       "      <th>s</th>\n",
       "      <th>a</th>\n",
       "      <th>r</th>\n",
       "      <th>sp</th>\n",
       "    </tr>\n",
       "  </thead>\n",
       "  <tbody>\n",
       "    <tr>\n",
       "      <th>0</th>\n",
       "      <td>0</td>\n",
       "      <td>1</td>\n",
       "      <td>1</td>\n",
       "      <td>-1.128571</td>\n",
       "      <td>2</td>\n",
       "    </tr>\n",
       "    <tr>\n",
       "      <th>1</th>\n",
       "      <td>1</td>\n",
       "      <td>2</td>\n",
       "      <td>2</td>\n",
       "      <td>-1.000000</td>\n",
       "      <td>3</td>\n",
       "    </tr>\n",
       "    <tr>\n",
       "      <th>2</th>\n",
       "      <td>2</td>\n",
       "      <td>3</td>\n",
       "      <td>2</td>\n",
       "      <td>-0.742857</td>\n",
       "      <td>2</td>\n",
       "    </tr>\n",
       "    <tr>\n",
       "      <th>3</th>\n",
       "      <td>3</td>\n",
       "      <td>2</td>\n",
       "      <td>3</td>\n",
       "      <td>-1.000000</td>\n",
       "      <td>4</td>\n",
       "    </tr>\n",
       "    <tr>\n",
       "      <th>4</th>\n",
       "      <td>4</td>\n",
       "      <td>4</td>\n",
       "      <td>3</td>\n",
       "      <td>-0.485714</td>\n",
       "      <td>3</td>\n",
       "    </tr>\n",
       "  </tbody>\n",
       "</table>\n",
       "</div>"
      ],
      "text/plain": [
       "   Unnamed: 0  s  a         r  sp\n",
       "0           0  1  1 -1.128571   2\n",
       "1           1  2  2 -1.000000   3\n",
       "2           2  3  2 -0.742857   2\n",
       "3           3  2  3 -1.000000   4\n",
       "4           4  4  3 -0.485714   3"
      ]
     },
     "execution_count": 856,
     "metadata": {},
     "output_type": "execute_result"
    }
   ],
   "source": [
    "mdp_data=pd.read_csv('/Users/mn/Desktop/Final_Project/cs238_final_project/data/transition_matrix_train_int.csv')\n",
    "mdp_data.head()"
   ]
  },
  {
   "cell_type": "code",
   "execution_count": 857,
   "metadata": {},
   "outputs": [],
   "source": [
    "states = mdp_data['s'].unique()\n",
    "actions = mdp_data['a'].unique()\n",
    "\n",
    "state_to_index = {state: i for i, state in enumerate(states)}\n",
    "action_to_index = {action: j for j, action in enumerate(actions)}\n",
    "index_to_state = {i: state for i, state in enumerate(states)}\n",
    "index_to_action = {j: action for j, action in enumerate(actions)}\n",
    "\n",
    "num_states = len(states)\n",
    "num_actions = len(actions)\n"
   ]
  },
  {
   "cell_type": "code",
   "execution_count": 858,
   "metadata": {},
   "outputs": [
    {
     "data": {
      "text/plain": [
       "64"
      ]
     },
     "execution_count": 858,
     "metadata": {},
     "output_type": "execute_result"
    }
   ],
   "source": [
    "num_states"
   ]
  },
  {
   "cell_type": "code",
   "execution_count": 859,
   "metadata": {},
   "outputs": [
    {
     "name": "stdout",
     "output_type": "stream",
     "text": [
      "All rows of T sum to 0 or 1: True\n",
      "Invalid row sums (if any): []\n"
     ]
    }
   ],
   "source": [
    "R,T,V=Value_Iteration(mdp_data,state_to_index,action_to_index,convergence_threshold=1e-9,gamma=0.4)"
   ]
  },
  {
   "cell_type": "code",
   "execution_count": 860,
   "metadata": {},
   "outputs": [],
   "source": [
    "policy_indeces=policy_extraction(num_states,num_actions,R,T,V)\n",
    "policy = [index_to_state[p] for p in policy_indeces]\n",
    "with open('/Users/mn/Desktop/Final_Project/cs238_final_project/data/int_to_state.json', 'r') as file:\n",
    "    int_to_state = json.load(file)"
   ]
  },
  {
   "cell_type": "code",
   "execution_count": 861,
   "metadata": {},
   "outputs": [
    {
     "name": "stdout",
     "output_type": "stream",
     "text": [
      "Average Cumulative Reward (Optimal Policy): 24.66339285714286\n",
      "Average Cumulative Reward (Random Baseline): -12.434598214285714\n"
     ]
    }
   ],
   "source": [
    "#OUR POLICY\n",
    "max_steps=60\n",
    "optimal_policy_rewards,resulting_states = simulate_policy_on_all_s(policy_indeces, num_states, num_actions,T, R,max_steps)\n",
    "\n",
    "#RANDOM POLICY\n",
    "random_policy = np.zeros(num_states, dtype=int)\n",
    "for s in range(num_states):\n",
    "    feasible_actions = [a for a in range(num_actions) if T[s * num_actions + a].sum() > 0]\n",
    "    random_policy[s] = np.random.choice(feasible_actions) if feasible_actions else 0\n",
    "\n",
    "baseline_rewards,resulting_states_rand = simulate_policy_on_all_s(random_policy,num_states, num_actions,T, R,max_steps)\n",
    "\n",
    "print(\"Average Cumulative Reward (Optimal Policy):\", optimal_policy_rewards)\n",
    "print(\"Average Cumulative Reward (Random Baseline):\", baseline_rewards)\n"
   ]
  },
  {
   "cell_type": "code",
   "execution_count": 862,
   "metadata": {},
   "outputs": [
    {
     "data": {
      "text/plain": [
       "(52, 10, 1, 1)"
      ]
     },
     "execution_count": 862,
     "metadata": {},
     "output_type": "execute_result"
    }
   ],
   "source": [
    "ini_and_final_states = get_cd4_and_vl_from_rollouts(resulting_states,int_to_state)\n",
    "changes = evaluate_change_policies(ini_and_final_states)\n",
    "results = check_improvment_ratio(changes)\n",
    "results\n",
    "\n"
   ]
  },
  {
   "cell_type": "code",
   "execution_count": 863,
   "metadata": {},
   "outputs": [],
   "source": [
    "steps_results=[]\n",
    "for i in range(60):\n",
    "    optimal_policy_rewards,resulting_states = simulate_policy_on_all_s(policy_indeces, num_states, num_actions,T, R, i+1)\n",
    "    ini_and_final_states = get_cd4_and_vl_from_rollouts(resulting_states,int_to_state)\n",
    "    changes = evaluate_change_policies(ini_and_final_states)\n",
    "    results = check_improvment_ratio(changes)\n",
    "    steps_results.append(results)"
   ]
  },
  {
   "cell_type": "code",
   "execution_count": 864,
   "metadata": {},
   "outputs": [
    {
     "data": {
      "image/png": "[encoded data removed]",
      "text/plain": [
       "<Figure size 640x480 with 1 Axes>"
      ]
     },
     "metadata": {},
     "output_type": "display_data"
    }
   ],
   "source": [
    "steps_results = np.array(steps_results)\n",
    "\n",
    "# Generate indices for x-axis\n",
    "indices = np.arange(len(steps_results))\n",
    "\n",
    "# Column names\n",
    "column_labels = [\n",
    "    \"VL↓, CD4↑ (Best)\",\n",
    "    \"VL↓, CD4↓ (Good)\",\n",
    "    \"VL↑, CD4↑ (Bad)\",\n",
    "    \"VL↑, CD4↓ (Worst)\"\n",
    "]\n",
    "\n",
    "# Plot each column as a scatter plot\n",
    "for col in range(steps_results.shape[1]):\n",
    "    plt.scatter(indices, steps_results[:, col], label=column_labels[col])\n",
    "\n",
    "# Add labels, title, and legend\n",
    "plt.xlabel('Rollout Depth')\n",
    "plt.ylabel('Different Outcome Types Count')\n",
    "plt.title('Count of Different Outcome Types Over Rollout Depth')\n",
    "plt.legend(loc='lower right')\n",
    "plt.grid(True)\n",
    "\n",
    "# Show the plot\n",
    "plt.show()"
   ]
  },
  {
   "cell_type": "code",
   "execution_count": 865,
   "metadata": {},
   "outputs": [
    {
     "data": {
      "text/html": [
       "<div>\n",
       "<style scoped>\n",
       "    .dataframe tbody tr th:only-of-type {\n",
       "        vertical-align: middle;\n",
       "    }\n",
       "\n",
       "    .dataframe tbody tr th {\n",
       "        vertical-align: top;\n",
       "    }\n",
       "\n",
       "    .dataframe thead th {\n",
       "        text-align: right;\n",
       "    }\n",
       "</style>\n",
       "<table border=\"1\" class=\"dataframe\">\n",
       "  <thead>\n",
       "    <tr style=\"text-align: right;\">\n",
       "      <th></th>\n",
       "      <th>State</th>\n",
       "      <th>Optimal_Action</th>\n",
       "      <th>Optimal_Value</th>\n",
       "    </tr>\n",
       "  </thead>\n",
       "  <tbody>\n",
       "    <tr>\n",
       "      <th>0</th>\n",
       "      <td>1</td>\n",
       "      <td>16</td>\n",
       "      <td>-1.128571</td>\n",
       "    </tr>\n",
       "    <tr>\n",
       "      <th>1</th>\n",
       "      <td>2</td>\n",
       "      <td>16</td>\n",
       "      <td>-1.000000</td>\n",
       "    </tr>\n",
       "    <tr>\n",
       "      <th>2</th>\n",
       "      <td>3</td>\n",
       "      <td>17</td>\n",
       "      <td>-0.458911</td>\n",
       "    </tr>\n",
       "    <tr>\n",
       "      <th>3</th>\n",
       "      <td>4</td>\n",
       "      <td>16</td>\n",
       "      <td>-0.128163</td>\n",
       "    </tr>\n",
       "    <tr>\n",
       "      <th>4</th>\n",
       "      <td>5</td>\n",
       "      <td>16</td>\n",
       "      <td>-0.087993</td>\n",
       "    </tr>\n",
       "    <tr>\n",
       "      <th>...</th>\n",
       "      <td>...</td>\n",
       "      <td>...</td>\n",
       "      <td>...</td>\n",
       "    </tr>\n",
       "    <tr>\n",
       "      <th>59</th>\n",
       "      <td>60</td>\n",
       "      <td>15</td>\n",
       "      <td>0.960850</td>\n",
       "    </tr>\n",
       "    <tr>\n",
       "      <th>60</th>\n",
       "      <td>61</td>\n",
       "      <td>2</td>\n",
       "      <td>1.189346</td>\n",
       "    </tr>\n",
       "    <tr>\n",
       "      <th>61</th>\n",
       "      <td>62</td>\n",
       "      <td>15</td>\n",
       "      <td>1.110190</td>\n",
       "    </tr>\n",
       "    <tr>\n",
       "      <th>62</th>\n",
       "      <td>63</td>\n",
       "      <td>10</td>\n",
       "      <td>-0.844112</td>\n",
       "    </tr>\n",
       "    <tr>\n",
       "      <th>63</th>\n",
       "      <td>64</td>\n",
       "      <td>23</td>\n",
       "      <td>0.375738</td>\n",
       "    </tr>\n",
       "  </tbody>\n",
       "</table>\n",
       "<p>64 rows × 3 columns</p>\n",
       "</div>"
      ],
      "text/plain": [
       "    State  Optimal_Action  Optimal_Value\n",
       "0       1              16      -1.128571\n",
       "1       2              16      -1.000000\n",
       "2       3              17      -0.458911\n",
       "3       4              16      -0.128163\n",
       "4       5              16      -0.087993\n",
       "..    ...             ...            ...\n",
       "59     60              15       0.960850\n",
       "60     61               2       1.189346\n",
       "61     62              15       1.110190\n",
       "62     63              10      -0.844112\n",
       "63     64              23       0.375738\n",
       "\n",
       "[64 rows x 3 columns]"
      ]
     },
     "execution_count": 865,
     "metadata": {},
     "output_type": "execute_result"
    }
   ],
   "source": [
    "policy_df = pd.DataFrame({\n",
    "    'State': [index_to_state[s] for s in range(num_states)],\n",
    "    'Optimal_Action': [index_to_action[policy[s]] for s in range(num_states)],\n",
    "    'Optimal_Value': V\n",
    "})\n",
    "\n",
    "policy_df.to_csv('optimal_policy.csv', index=False)\n",
    "\n",
    "policy_df.head(n=len(policy_df))"
   ]
  }
 ],
 "metadata": {
  "kernelspec": {
   "display_name": "Python 3",
   "language": "python",
   "name": "python3"
  },
  "language_info": {
   "codemirror_mode": {
    "name": "ipython",
    "version": 3
   },
   "file_extension": ".py",
   "mimetype": "text/x-python",
   "name": "python",
   "nbconvert_exporter": "python",
   "pygments_lexer": "ipython3",
   "version": "3.11.10"
  }
 },
 "nbformat": 4,
 "nbformat_minor": 2
}
